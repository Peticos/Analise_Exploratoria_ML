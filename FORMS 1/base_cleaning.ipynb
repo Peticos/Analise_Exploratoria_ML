{
 "cells": [
  {
   "cell_type": "markdown",
   "metadata": {},
   "source": [
    "# Importação"
   ]
  },
  {
   "cell_type": "markdown",
   "metadata": {},
   "source": [
    "### Leitura, Tratamento e Análise"
   ]
  },
  {
   "cell_type": "code",
   "execution_count": 2,
   "metadata": {},
   "outputs": [
    {
     "ename": "ModuleNotFoundError",
     "evalue": "No module named 'matplotlib'",
     "output_type": "error",
     "traceback": [
      "\u001b[1;31m---------------------------------------------------------------------------\u001b[0m",
      "\u001b[1;31mModuleNotFoundError\u001b[0m                       Traceback (most recent call last)",
      "Cell \u001b[1;32mIn[2], line 5\u001b[0m\n\u001b[0;32m      2\u001b[0m \u001b[38;5;28;01mimport\u001b[39;00m \u001b[38;5;21;01mpandas\u001b[39;00m \u001b[38;5;28;01mas\u001b[39;00m \u001b[38;5;21;01mpd\u001b[39;00m\n\u001b[0;32m      4\u001b[0m \u001b[38;5;66;03m# o matplotlib e plotly para mostrar os dados em forma de gráficos\u001b[39;00m\n\u001b[1;32m----> 5\u001b[0m \u001b[38;5;28;01mimport\u001b[39;00m \u001b[38;5;21;01mmatplotlib\u001b[39;00m\u001b[38;5;21;01m.\u001b[39;00m\u001b[38;5;21;01mpyplot\u001b[39;00m \u001b[38;5;28;01mas\u001b[39;00m \u001b[38;5;21;01mplt\u001b[39;00m\n\u001b[0;32m      6\u001b[0m \u001b[38;5;28;01mimport\u001b[39;00m \u001b[38;5;21;01mplotly\u001b[39;00m\u001b[38;5;21;01m.\u001b[39;00m\u001b[38;5;21;01mexpress\u001b[39;00m \u001b[38;5;28;01mas\u001b[39;00m \u001b[38;5;21;01mpx\u001b[39;00m\n",
      "\u001b[1;31mModuleNotFoundError\u001b[0m: No module named 'matplotlib'"
     ]
    }
   ],
   "source": [
    "# o pandas é usado para ler e manipular os dados da nossa base (o arquivo)\n",
    "import pandas as pd\n",
    "\n",
    "# o matplotlib e plotly para mostrar os dados em forma de gráficos\n",
    "import matplotlib.pyplot as plt\n",
    "import plotly.express as px"
   ]
  },
  {
   "cell_type": "markdown",
   "metadata": {},
   "source": [
    "# Funções"
   ]
  },
  {
   "cell_type": "code",
   "execution_count": 2,
   "metadata": {},
   "outputs": [],
   "source": [
    "# Essa função remove o último caractere de uma string se for um determinado caractere\n",
    "def remove_last_char(string, char):\n",
    "    if string.endswith(char):\n",
    "        return string[:-1]\n",
    "    return \n",
    "\n",
    "# Essa função faz o mesmo que o anterior para cada linha de uma coluna de um dataframe\n",
    "def df_remove_last_char(df, char):\n",
    "    df_2 = []\n",
    "    for i in df:\n",
    "        df_2.append(remove_last_char(i, char))\n",
    "    return df_2"
   ]
  },
  {
   "cell_type": "markdown",
   "metadata": {},
   "source": [
    "# Leitura e tratamento do DataFrame"
   ]
  },
  {
   "cell_type": "markdown",
   "metadata": {},
   "source": [
    "## Leitura"
   ]
  },
  {
   "cell_type": "markdown",
   "metadata": {},
   "source": [
    "#### Colunas do DataFrame (sem tratamento):\n",
    " - id: identificador das pessoas que participaram da pesquisa (número inteiro serial)\n",
    "\n",
    " - age: intervalo de idade das pessoas [\"Até 15 anos\", \"16 - 24 Anos\", \"25 - 29 Anos\", \"30 - 39 Anos\", \"40 - 49 Anos\", \"50 ou mais\"]\n",
    " \n",
    " - gender: gênero que a pessoa se identifica (Masculino, Feminino, Outros/Prefiro não dizer)\n",
    " \n",
    " - time_in_social_media: intervalo de tempo que a pessoa costuma passar, por dia, usando redes sociais [\"Menos que 2h\", \"Entre 2h e 4h\", \"Entre 4h e 6h\", \"Entre 6h e 8h\", \"Mais que 8h\"]\n",
    " \n",
    " - people_living_together: quantas pessoas (contando com a pessoa) moram em sua casa\n",
    " \n",
    " - social_class: classe social que a pessoa acha que se encaixa [\"Classe baixa\", \"Classe média baixa\", \"Classe média\", \"Classe média alta\", \"Classe alta\", \"Prefiro não dizer\"]\n",
    " \n",
    " - has_pets: se a pessoa tem pets [\"Sim\", \"Não\"]\n",
    " \n",
    " - number_of_pets: quantidade de pets que a pessoa tem\n",
    " \n",
    " - pet_species: espécie(s) de seu(s) pet(s) \n",
    " \n",
    " - forgets: se a pessoa costuma esquecer tarefas relacionadas aos seus pets\n",
    " \n",
    " - report_abandoned: se a pessoa reportaria um cachorro abandonado se o encontrasse [\"Não\", \"Provavelmente não\", \"Talvez\", \"Provavelmente sim\", \"Sim\"]\n",
    " \n",
    " - feeling: como a pessoa se sente ao ver fotos de pets (em uma escala de 0 a 4)\n",
    " \n",
    " - would_use: resposta se a pessoa usaria uma rede social voltada a pets"
   ]
  },
  {
   "cell_type": "code",
   "execution_count": 3,
   "metadata": {},
   "outputs": [
    {
     "data": {
      "text/html": [
       "<div>\n",
       "<style scoped>\n",
       "    .dataframe tbody tr th:only-of-type {\n",
       "        vertical-align: middle;\n",
       "    }\n",
       "\n",
       "    .dataframe tbody tr th {\n",
       "        vertical-align: top;\n",
       "    }\n",
       "\n",
       "    .dataframe thead th {\n",
       "        text-align: right;\n",
       "    }\n",
       "</style>\n",
       "<table border=\"1\" class=\"dataframe\">\n",
       "  <thead>\n",
       "    <tr style=\"text-align: right;\">\n",
       "      <th></th>\n",
       "      <th>id</th>\n",
       "      <th>age</th>\n",
       "      <th>gender</th>\n",
       "      <th>time_in_social_media</th>\n",
       "      <th>people_living_together</th>\n",
       "      <th>social_class</th>\n",
       "      <th>has_pets</th>\n",
       "      <th>number_of_pets</th>\n",
       "      <th>pet_species</th>\n",
       "      <th>forgets</th>\n",
       "      <th>report_abandoned</th>\n",
       "      <th>feeling</th>\n",
       "      <th>would_use</th>\n",
       "    </tr>\n",
       "  </thead>\n",
       "  <tbody>\n",
       "    <tr>\n",
       "      <th>0</th>\n",
       "      <td>1</td>\n",
       "      <td>Até 15 anos</td>\n",
       "      <td>Masculino</td>\n",
       "      <td>Entre 2h e 4h</td>\n",
       "      <td>3</td>\n",
       "      <td>Classe média</td>\n",
       "      <td>Não</td>\n",
       "      <td>0</td>\n",
       "      <td>NaN</td>\n",
       "      <td>NaN</td>\n",
       "      <td>NaN</td>\n",
       "      <td>1</td>\n",
       "      <td>Não</td>\n",
       "    </tr>\n",
       "    <tr>\n",
       "      <th>1</th>\n",
       "      <td>2</td>\n",
       "      <td>Até 15 anos</td>\n",
       "      <td>Feminino</td>\n",
       "      <td>Entre 2h e 4h</td>\n",
       "      <td>4</td>\n",
       "      <td>Classe média alta</td>\n",
       "      <td>Não</td>\n",
       "      <td>0</td>\n",
       "      <td>NaN</td>\n",
       "      <td>NaN</td>\n",
       "      <td>NaN</td>\n",
       "      <td>2</td>\n",
       "      <td>Não</td>\n",
       "    </tr>\n",
       "    <tr>\n",
       "      <th>2</th>\n",
       "      <td>3</td>\n",
       "      <td>Até 15 anos</td>\n",
       "      <td>Masculino</td>\n",
       "      <td>Entre 4h e 6h</td>\n",
       "      <td>4</td>\n",
       "      <td>Classe média alta</td>\n",
       "      <td>Sim</td>\n",
       "      <td>1</td>\n",
       "      <td>Cachorro,</td>\n",
       "      <td>Mais ou menos</td>\n",
       "      <td>Provavelmente sim</td>\n",
       "      <td>2</td>\n",
       "      <td>Talvez</td>\n",
       "    </tr>\n",
       "    <tr>\n",
       "      <th>3</th>\n",
       "      <td>4</td>\n",
       "      <td>16 - 24 anos</td>\n",
       "      <td>Masculino</td>\n",
       "      <td>Menos que 2h</td>\n",
       "      <td>4</td>\n",
       "      <td>Classe média baixa</td>\n",
       "      <td>Sim</td>\n",
       "      <td>1</td>\n",
       "      <td>Cachorro,</td>\n",
       "      <td>Não</td>\n",
       "      <td>Sim</td>\n",
       "      <td>3</td>\n",
       "      <td>Sim</td>\n",
       "    </tr>\n",
       "    <tr>\n",
       "      <th>4</th>\n",
       "      <td>5</td>\n",
       "      <td>Até 15 anos</td>\n",
       "      <td>Masculino</td>\n",
       "      <td>Entre 2h e 4h</td>\n",
       "      <td>4</td>\n",
       "      <td>Classe média alta</td>\n",
       "      <td>Não</td>\n",
       "      <td>0</td>\n",
       "      <td>NaN</td>\n",
       "      <td>NaN</td>\n",
       "      <td>NaN</td>\n",
       "      <td>1</td>\n",
       "      <td>Não</td>\n",
       "    </tr>\n",
       "    <tr>\n",
       "      <th>...</th>\n",
       "      <td>...</td>\n",
       "      <td>...</td>\n",
       "      <td>...</td>\n",
       "      <td>...</td>\n",
       "      <td>...</td>\n",
       "      <td>...</td>\n",
       "      <td>...</td>\n",
       "      <td>...</td>\n",
       "      <td>...</td>\n",
       "      <td>...</td>\n",
       "      <td>...</td>\n",
       "      <td>...</td>\n",
       "      <td>...</td>\n",
       "    </tr>\n",
       "    <tr>\n",
       "      <th>349</th>\n",
       "      <td>350</td>\n",
       "      <td>40 - 49 anos</td>\n",
       "      <td>Feminino</td>\n",
       "      <td>Entre 2h e 4h</td>\n",
       "      <td>4</td>\n",
       "      <td>Classe média</td>\n",
       "      <td>Sim</td>\n",
       "      <td>2</td>\n",
       "      <td>Outros</td>\n",
       "      <td>Não</td>\n",
       "      <td>Sim</td>\n",
       "      <td>3</td>\n",
       "      <td>Não</td>\n",
       "    </tr>\n",
       "    <tr>\n",
       "      <th>350</th>\n",
       "      <td>351</td>\n",
       "      <td>50 ou mais</td>\n",
       "      <td>Feminino</td>\n",
       "      <td>Entre 2h e 4h</td>\n",
       "      <td>2</td>\n",
       "      <td>Classe média</td>\n",
       "      <td>Sim</td>\n",
       "      <td>1</td>\n",
       "      <td>Cachorro,</td>\n",
       "      <td>Não</td>\n",
       "      <td>Provavelmente sim</td>\n",
       "      <td>3</td>\n",
       "      <td>Sim</td>\n",
       "    </tr>\n",
       "    <tr>\n",
       "      <th>351</th>\n",
       "      <td>352</td>\n",
       "      <td>40 - 49 anos</td>\n",
       "      <td>Feminino</td>\n",
       "      <td>Entre 2h e 4h</td>\n",
       "      <td>3</td>\n",
       "      <td>Classe média</td>\n",
       "      <td>Sim</td>\n",
       "      <td>1</td>\n",
       "      <td>Cachorro,</td>\n",
       "      <td>Sim</td>\n",
       "      <td>Sim</td>\n",
       "      <td>3</td>\n",
       "      <td>Sim</td>\n",
       "    </tr>\n",
       "    <tr>\n",
       "      <th>352</th>\n",
       "      <td>353</td>\n",
       "      <td>50 ou mais</td>\n",
       "      <td>Masculino</td>\n",
       "      <td>Menos que 2h</td>\n",
       "      <td>2</td>\n",
       "      <td>Classe média</td>\n",
       "      <td>Não</td>\n",
       "      <td>0</td>\n",
       "      <td>NaN</td>\n",
       "      <td>NaN</td>\n",
       "      <td>NaN</td>\n",
       "      <td>3</td>\n",
       "      <td>Sim</td>\n",
       "    </tr>\n",
       "    <tr>\n",
       "      <th>353</th>\n",
       "      <td>354</td>\n",
       "      <td>50 ou mais</td>\n",
       "      <td>Feminino</td>\n",
       "      <td>Entre 2h e 4h</td>\n",
       "      <td>4</td>\n",
       "      <td>Classe média</td>\n",
       "      <td>Sim</td>\n",
       "      <td>2</td>\n",
       "      <td>Cachorro,</td>\n",
       "      <td>Sim</td>\n",
       "      <td>Sim</td>\n",
       "      <td>4</td>\n",
       "      <td>Sim</td>\n",
       "    </tr>\n",
       "  </tbody>\n",
       "</table>\n",
       "<p>354 rows × 13 columns</p>\n",
       "</div>"
      ],
      "text/plain": [
       "      id           age      gender time_in_social_media  \\\n",
       "0      1   Até 15 anos  Masculino         Entre 2h e 4h   \n",
       "1      2   Até 15 anos    Feminino        Entre 2h e 4h   \n",
       "2      3   Até 15 anos  Masculino        Entre 4h e 6h    \n",
       "3      4  16 - 24 anos  Masculino          Menos que 2h   \n",
       "4      5   Até 15 anos  Masculino         Entre 2h e 4h   \n",
       "..   ...           ...         ...                  ...   \n",
       "349  350  40 - 49 anos    Feminino        Entre 2h e 4h   \n",
       "350  351    50 ou mais    Feminino        Entre 2h e 4h   \n",
       "351  352  40 - 49 anos    Feminino        Entre 2h e 4h   \n",
       "352  353    50 ou mais  Masculino          Menos que 2h   \n",
       "353  354    50 ou mais    Feminino        Entre 2h e 4h   \n",
       "\n",
       "     people_living_together        social_class has_pets  number_of_pets  \\\n",
       "0                         3       Classe média       Não               0   \n",
       "1                         4  Classe média alta       Não               0   \n",
       "2                         4  Classe média alta      Sim                1   \n",
       "3                         4  Classe média baixa     Sim                1   \n",
       "4                         4  Classe média alta       Não               0   \n",
       "..                      ...                 ...      ...             ...   \n",
       "349                       4       Classe média      Sim                2   \n",
       "350                       2       Classe média      Sim                1   \n",
       "351                       3       Classe média      Sim                1   \n",
       "352                       2       Classe média       Não               0   \n",
       "353                       4       Classe média      Sim                2   \n",
       "\n",
       "    pet_species        forgets   report_abandoned  feeling would_use  \n",
       "0           NaN            NaN                NaN        1      Não   \n",
       "1           NaN            NaN                NaN        2      Não   \n",
       "2     Cachorro,  Mais ou menos  Provavelmente sim        2   Talvez   \n",
       "3     Cachorro,            Não               Sim         3       Sim  \n",
       "4           NaN            NaN                NaN        1      Não   \n",
       "..          ...            ...                ...      ...       ...  \n",
       "349      Outros            Não               Sim         3      Não   \n",
       "350   Cachorro,            Não  Provavelmente sim        3       Sim  \n",
       "351   Cachorro,           Sim                Sim         3       Sim  \n",
       "352         NaN            NaN                NaN        3       Sim  \n",
       "353   Cachorro,           Sim                Sim         4       Sim  \n",
       "\n",
       "[354 rows x 13 columns]"
      ]
     },
     "metadata": {},
     "output_type": "display_data"
    }
   ],
   "source": [
    "df = pd.read_excel('data/data.xlsx')\n",
    "display(df)"
   ]
  },
  {
   "cell_type": "markdown",
   "metadata": {},
   "source": [
    "## Tratamento"
   ]
  },
  {
   "cell_type": "markdown",
   "metadata": {},
   "source": [
    "### Transformando as espécies de pets em listas (já que pode ser mais de uma)"
   ]
  },
  {
   "cell_type": "code",
   "execution_count": 4,
   "metadata": {},
   "outputs": [
    {
     "data": {
      "text/plain": [
       "0          [none]\n",
       "1          [none]\n",
       "2      [Cachorro]\n",
       "3      [Cachorro]\n",
       "4          [none]\n",
       "          ...    \n",
       "349        [none]\n",
       "350    [Cachorro]\n",
       "351    [Cachorro]\n",
       "352        [none]\n",
       "353    [Cachorro]\n",
       "Name: pet_species, Length: 354, dtype: object"
      ]
     },
     "execution_count": 4,
     "metadata": {},
     "output_type": "execute_result"
    }
   ],
   "source": [
    "# Substitui os vazios por nenhum\n",
    "df['pet_species'] = df['pet_species'].fillna('none')\n",
    "\n",
    "# Remove a virgula do final\n",
    "df['pet_species'] = df_remove_last_char(df['pet_species'], ',')\n",
    "\n",
    "# Transforma as strings em listas\n",
    "df['pet_species'] = df['pet_species'].str.split(',')\n",
    "\n",
    "df['pet_species'] = df['pet_species'].fillna('[none]')\n",
    "\n",
    "df['pet_species']"
   ]
  },
  {
   "cell_type": "markdown",
   "metadata": {},
   "source": [
    "### Transformando as colunas em inteiro"
   ]
  },
  {
   "cell_type": "markdown",
   "metadata": {},
   "source": [
    "#### Colunas:\n",
    " - gender: Masculino = 0, Feminino = 1, outros = 2\n",
    " - age: <=15 = 10, <=24 = 20, <=29 = 25, <=39 = 30, <=49 = 40, >=50 = 50\n",
    " - time_in_social_media: Menos que 2h = 0, Entre 2h e 4h = 2, Entre 4h e 6h = 4, Entre 6h e 8h = 6, Mais que 8h = 8\n",
    " - has_pets: Não = 0, Sim = 1\n",
    " - forgets: Não = 0, Todo o resto = 1 (se a pessoa colocou outra coisa como talvez, ou geralmente, consideramos que ela esqueça)\n",
    " - would_use: Sim = 1, Todo o resto = 0 (se a pessoa colocou que talvez usaria, consideramos como alguém que não usaria)\n",
    " - report_abandoned: Não = 0, Provavelmente Não = 1, Talvez = 2, Provavelmente sim = 3, Sim = 4 (consideramos quem não respondeu como talvez)"
   ]
  },
  {
   "cell_type": "code",
   "execution_count": 5,
   "metadata": {},
   "outputs": [
    {
     "name": "stderr",
     "output_type": "stream",
     "text": [
      "C:\\Users\\guilhermelanzoni-ieg\\AppData\\Local\\Temp\\ipykernel_48444\\176170887.py:42: FutureWarning: Downcasting object dtype arrays on .fillna, .ffill, .bfill is deprecated and will change in a future version. Call result.infer_objects(copy=False) instead. To opt-in to the future behavior, set `pd.set_option('future.no_silent_downcasting', True)`\n",
      "  df['report_abandoned'] = df['report_abandoned'].fillna(2)\n"
     ]
    }
   ],
   "source": [
    "## coluna gender\n",
    "df.loc[~df['gender'].str.strip().isin(['Feminino', 'Masculino']), 'gender'] = 2\n",
    "df.loc[df['gender'].str.strip() == 'Masculino', 'gender'] = 0\n",
    "df.loc[df['gender'].str.strip() == 'Feminino', 'gender'] = 1\n",
    "\n",
    "## coluna age\n",
    "df.loc[df['age'].str.strip() == 'Até 15 anos', 'age'] = 15\n",
    "df.loc[df['age'].str.strip() == '16 - 24 anos', 'age'] = 20\n",
    "df.loc[df['age'].str.strip() == '25 - 29 anos', 'age'] = 25\n",
    "df.loc[df['age'].str.strip() == '30 - 39 anos', 'age'] = 30\n",
    "df.loc[df['age'].str.strip() == '40 - 49 anos', 'age'] = 40\n",
    "df.loc[df['age'].str.strip() == '50 ou mais', 'age'] = 50\n",
    "\n",
    "## coluna time_in_social_media\n",
    "### algumas vezes, quando o tempo que a pessoa passa em redes sociais é entre 4h e 6h, a string está com esse problema \"\\xa0\"\n",
    "df.loc[df['time_in_social_media'] ==  'Entre 4h e 6h\\xa0', 'time_in_social_media' ] =  'Entre 4h e 6h'\n",
    "df.loc[df['time_in_social_media'].str.strip() == 'Menos que 2h', 'time_in_social_media'] = 0\n",
    "df.loc[df['time_in_social_media'].str.strip() == 'Entre 2h e 4h', 'time_in_social_media'] = 2\n",
    "df.loc[df['time_in_social_media'].str.strip() == 'Entre 4h e 6h', 'time_in_social_media'] = 4\n",
    "df.loc[df['time_in_social_media'].str.strip() == 'Entre 6h e 8h', 'time_in_social_media'] = 6\n",
    "df.loc[df['time_in_social_media'].str.strip() == 'Mais que 8h', 'time_in_social_media'] = 8\n",
    "\n",
    "## coluna has_pets\n",
    "df.loc[df['has_pets'].str.strip() == 'Não', 'has_pets'] = 0\n",
    "df.loc[df['has_pets'].str.strip() == 'Sim', 'has_pets'] = 1\n",
    "\n",
    "## coluna forgets\n",
    "df.loc[df['forgets'].str.strip() != 'Não', 'forgets'] = 1\n",
    "df.loc[df['forgets'].str.strip() == 'Não', 'forgets'] = 0\n",
    "\n",
    "## coluna would_use\n",
    "df.loc[df['would_use'].str.strip() == 'Não', 'would_use'] = 0\n",
    "df.loc[df['would_use'].str.strip() == 'Talvez', 'would_use'] = 0.5\n",
    "df.loc[df['would_use'].str.strip() == 'Sim', 'would_use'] = 1\n",
    "\n",
    "## coluna report_abandoned\n",
    "df.loc[df['report_abandoned'].str.strip() == 'Não', 'report_abandoned'] = 0\n",
    "df.loc[df['report_abandoned'].str.strip() == 'Provavelmente não', 'report_abandoned'] = 1\n",
    "df.loc[df['report_abandoned'].str.strip() == 'Talvez', 'report_abandoned'] = 2\n",
    "df.loc[df['report_abandoned'].str.strip() == 'Provavelmente sim', 'report_abandoned'] = 3\n",
    "df.loc[df['report_abandoned'].str.strip() == 'Sim', 'report_abandoned'] = 4\n",
    "df['report_abandoned'] = df['report_abandoned'].fillna(2)\n",
    "\n",
    "## coluna social_class\n",
    "### assim como na time_in_social_media, algumas linhas também tem esse erro\n",
    "df.loc[df['social_class'].str.strip() == 'Classe baixa\\xa0', 'social_class'] = 'Classe baixa'\n",
    "df.loc[df['social_class'].str.strip() == 'Classe média\\xa0', 'social_class'] = 'Classe média'\n",
    "df.loc[df['social_class'].str.strip() == 'Classe média alta\\xa0', 'social_class'] = 'Classe média alta'\n",
    "\n",
    "df.loc[df['social_class'].str.strip() == 'Classe baixa', 'social_class'] = 1\n",
    "df.loc[df['social_class'].str.strip() == 'Classe média baixa', 'social_class'] = 2\n",
    "df.loc[df['social_class'].str.strip() == 'Classe média', 'social_class'] = 3\n",
    "df.loc[df['social_class'].str.strip() == 'Classe média alta', 'social_class'] = 4\n",
    "df.loc[df['social_class'].str.strip() == 'Classe alta', 'social_class'] = 5\n",
    "df.loc[df['social_class'].str.strip() == 'Prefiro não dizer', 'social_class'] = 0"
   ]
  },
  {
   "cell_type": "code",
   "execution_count": 6,
   "metadata": {},
   "outputs": [
    {
     "data": {
      "text/plain": [
       "array([3, 4, 2, 1, 0, 5], dtype=object)"
      ]
     },
     "execution_count": 6,
     "metadata": {},
     "output_type": "execute_result"
    }
   ],
   "source": [
    "df['social_class'].unique()"
   ]
  },
  {
   "cell_type": "code",
   "execution_count": 7,
   "metadata": {},
   "outputs": [
    {
     "data": {
      "text/html": [
       "<div>\n",
       "<style scoped>\n",
       "    .dataframe tbody tr th:only-of-type {\n",
       "        vertical-align: middle;\n",
       "    }\n",
       "\n",
       "    .dataframe tbody tr th {\n",
       "        vertical-align: top;\n",
       "    }\n",
       "\n",
       "    .dataframe thead th {\n",
       "        text-align: right;\n",
       "    }\n",
       "</style>\n",
       "<table border=\"1\" class=\"dataframe\">\n",
       "  <thead>\n",
       "    <tr style=\"text-align: right;\">\n",
       "      <th></th>\n",
       "      <th>id</th>\n",
       "      <th>age</th>\n",
       "      <th>gender</th>\n",
       "      <th>time_in_social_media</th>\n",
       "      <th>people_living_together</th>\n",
       "      <th>social_class</th>\n",
       "      <th>has_pets</th>\n",
       "      <th>number_of_pets</th>\n",
       "      <th>pet_species</th>\n",
       "      <th>forgets</th>\n",
       "      <th>report_abandoned</th>\n",
       "      <th>feeling</th>\n",
       "      <th>would_use</th>\n",
       "    </tr>\n",
       "  </thead>\n",
       "  <tbody>\n",
       "  </tbody>\n",
       "</table>\n",
       "</div>"
      ],
      "text/plain": [
       "Empty DataFrame\n",
       "Columns: [id, age, gender, time_in_social_media, people_living_together, social_class, has_pets, number_of_pets, pet_species, forgets, report_abandoned, feeling, would_use]\n",
       "Index: []"
      ]
     },
     "execution_count": 7,
     "metadata": {},
     "output_type": "execute_result"
    }
   ],
   "source": [
    "df.loc[df['pet_species'].apply(lambda species_list: 'Cachorro' not in species_list and 'Gato' not in species_list and 'none' not in species_list and 'Outros' not in species_list)]"
   ]
  },
  {
   "cell_type": "code",
   "execution_count": 8,
   "metadata": {},
   "outputs": [
    {
     "data": {
      "text/html": [
       "<div>\n",
       "<style scoped>\n",
       "    .dataframe tbody tr th:only-of-type {\n",
       "        vertical-align: middle;\n",
       "    }\n",
       "\n",
       "    .dataframe tbody tr th {\n",
       "        vertical-align: top;\n",
       "    }\n",
       "\n",
       "    .dataframe thead th {\n",
       "        text-align: right;\n",
       "    }\n",
       "</style>\n",
       "<table border=\"1\" class=\"dataframe\">\n",
       "  <thead>\n",
       "    <tr style=\"text-align: right;\">\n",
       "      <th></th>\n",
       "      <th>age</th>\n",
       "      <th>gender</th>\n",
       "      <th>time_in_social_media</th>\n",
       "      <th>people_living_together</th>\n",
       "      <th>social_class</th>\n",
       "      <th>has_pets</th>\n",
       "      <th>number_of_pets</th>\n",
       "      <th>has_dog</th>\n",
       "      <th>has_cat</th>\n",
       "      <th>has_others</th>\n",
       "      <th>forgets</th>\n",
       "      <th>report_abandoned</th>\n",
       "      <th>feeling</th>\n",
       "      <th>would_use</th>\n",
       "    </tr>\n",
       "  </thead>\n",
       "  <tbody>\n",
       "    <tr>\n",
       "      <th>0</th>\n",
       "      <td>15</td>\n",
       "      <td>0</td>\n",
       "      <td>2</td>\n",
       "      <td>3</td>\n",
       "      <td>3</td>\n",
       "      <td>0</td>\n",
       "      <td>0</td>\n",
       "      <td>0</td>\n",
       "      <td>0</td>\n",
       "      <td>0</td>\n",
       "      <td>1</td>\n",
       "      <td>2</td>\n",
       "      <td>1</td>\n",
       "      <td>0</td>\n",
       "    </tr>\n",
       "    <tr>\n",
       "      <th>1</th>\n",
       "      <td>15</td>\n",
       "      <td>1</td>\n",
       "      <td>2</td>\n",
       "      <td>4</td>\n",
       "      <td>4</td>\n",
       "      <td>0</td>\n",
       "      <td>0</td>\n",
       "      <td>0</td>\n",
       "      <td>0</td>\n",
       "      <td>0</td>\n",
       "      <td>1</td>\n",
       "      <td>2</td>\n",
       "      <td>2</td>\n",
       "      <td>0</td>\n",
       "    </tr>\n",
       "    <tr>\n",
       "      <th>2</th>\n",
       "      <td>15</td>\n",
       "      <td>0</td>\n",
       "      <td>4</td>\n",
       "      <td>4</td>\n",
       "      <td>4</td>\n",
       "      <td>1</td>\n",
       "      <td>1</td>\n",
       "      <td>1</td>\n",
       "      <td>0</td>\n",
       "      <td>0</td>\n",
       "      <td>1</td>\n",
       "      <td>3</td>\n",
       "      <td>2</td>\n",
       "      <td>0.5</td>\n",
       "    </tr>\n",
       "    <tr>\n",
       "      <th>3</th>\n",
       "      <td>20</td>\n",
       "      <td>0</td>\n",
       "      <td>0</td>\n",
       "      <td>4</td>\n",
       "      <td>2</td>\n",
       "      <td>1</td>\n",
       "      <td>1</td>\n",
       "      <td>1</td>\n",
       "      <td>0</td>\n",
       "      <td>0</td>\n",
       "      <td>0</td>\n",
       "      <td>4</td>\n",
       "      <td>3</td>\n",
       "      <td>1</td>\n",
       "    </tr>\n",
       "    <tr>\n",
       "      <th>4</th>\n",
       "      <td>15</td>\n",
       "      <td>0</td>\n",
       "      <td>2</td>\n",
       "      <td>4</td>\n",
       "      <td>4</td>\n",
       "      <td>0</td>\n",
       "      <td>0</td>\n",
       "      <td>0</td>\n",
       "      <td>0</td>\n",
       "      <td>0</td>\n",
       "      <td>1</td>\n",
       "      <td>2</td>\n",
       "      <td>1</td>\n",
       "      <td>0</td>\n",
       "    </tr>\n",
       "    <tr>\n",
       "      <th>...</th>\n",
       "      <td>...</td>\n",
       "      <td>...</td>\n",
       "      <td>...</td>\n",
       "      <td>...</td>\n",
       "      <td>...</td>\n",
       "      <td>...</td>\n",
       "      <td>...</td>\n",
       "      <td>...</td>\n",
       "      <td>...</td>\n",
       "      <td>...</td>\n",
       "      <td>...</td>\n",
       "      <td>...</td>\n",
       "      <td>...</td>\n",
       "      <td>...</td>\n",
       "    </tr>\n",
       "    <tr>\n",
       "      <th>349</th>\n",
       "      <td>40</td>\n",
       "      <td>1</td>\n",
       "      <td>2</td>\n",
       "      <td>4</td>\n",
       "      <td>3</td>\n",
       "      <td>1</td>\n",
       "      <td>2</td>\n",
       "      <td>0</td>\n",
       "      <td>0</td>\n",
       "      <td>0</td>\n",
       "      <td>0</td>\n",
       "      <td>4</td>\n",
       "      <td>3</td>\n",
       "      <td>0</td>\n",
       "    </tr>\n",
       "    <tr>\n",
       "      <th>350</th>\n",
       "      <td>50</td>\n",
       "      <td>1</td>\n",
       "      <td>2</td>\n",
       "      <td>2</td>\n",
       "      <td>3</td>\n",
       "      <td>1</td>\n",
       "      <td>1</td>\n",
       "      <td>1</td>\n",
       "      <td>0</td>\n",
       "      <td>0</td>\n",
       "      <td>0</td>\n",
       "      <td>3</td>\n",
       "      <td>3</td>\n",
       "      <td>1</td>\n",
       "    </tr>\n",
       "    <tr>\n",
       "      <th>351</th>\n",
       "      <td>40</td>\n",
       "      <td>1</td>\n",
       "      <td>2</td>\n",
       "      <td>3</td>\n",
       "      <td>3</td>\n",
       "      <td>1</td>\n",
       "      <td>1</td>\n",
       "      <td>1</td>\n",
       "      <td>0</td>\n",
       "      <td>0</td>\n",
       "      <td>1</td>\n",
       "      <td>4</td>\n",
       "      <td>3</td>\n",
       "      <td>1</td>\n",
       "    </tr>\n",
       "    <tr>\n",
       "      <th>352</th>\n",
       "      <td>50</td>\n",
       "      <td>0</td>\n",
       "      <td>0</td>\n",
       "      <td>2</td>\n",
       "      <td>3</td>\n",
       "      <td>0</td>\n",
       "      <td>0</td>\n",
       "      <td>0</td>\n",
       "      <td>0</td>\n",
       "      <td>0</td>\n",
       "      <td>1</td>\n",
       "      <td>2</td>\n",
       "      <td>3</td>\n",
       "      <td>1</td>\n",
       "    </tr>\n",
       "    <tr>\n",
       "      <th>353</th>\n",
       "      <td>50</td>\n",
       "      <td>1</td>\n",
       "      <td>2</td>\n",
       "      <td>4</td>\n",
       "      <td>3</td>\n",
       "      <td>1</td>\n",
       "      <td>2</td>\n",
       "      <td>1</td>\n",
       "      <td>0</td>\n",
       "      <td>0</td>\n",
       "      <td>1</td>\n",
       "      <td>4</td>\n",
       "      <td>4</td>\n",
       "      <td>1</td>\n",
       "    </tr>\n",
       "  </tbody>\n",
       "</table>\n",
       "<p>354 rows × 14 columns</p>\n",
       "</div>"
      ],
      "text/plain": [
       "    age gender time_in_social_media  people_living_together social_class  \\\n",
       "0    15      0                    2                       3            3   \n",
       "1    15      1                    2                       4            4   \n",
       "2    15      0                    4                       4            4   \n",
       "3    20      0                    0                       4            2   \n",
       "4    15      0                    2                       4            4   \n",
       "..   ..    ...                  ...                     ...          ...   \n",
       "349  40      1                    2                       4            3   \n",
       "350  50      1                    2                       2            3   \n",
       "351  40      1                    2                       3            3   \n",
       "352  50      0                    0                       2            3   \n",
       "353  50      1                    2                       4            3   \n",
       "\n",
       "    has_pets  number_of_pets  has_dog  has_cat  has_others forgets  \\\n",
       "0          0               0        0        0           0       1   \n",
       "1          0               0        0        0           0       1   \n",
       "2          1               1        1        0           0       1   \n",
       "3          1               1        1        0           0       0   \n",
       "4          0               0        0        0           0       1   \n",
       "..       ...             ...      ...      ...         ...     ...   \n",
       "349        1               2        0        0           0       0   \n",
       "350        1               1        1        0           0       0   \n",
       "351        1               1        1        0           0       1   \n",
       "352        0               0        0        0           0       1   \n",
       "353        1               2        1        0           0       1   \n",
       "\n",
       "     report_abandoned  feeling would_use  \n",
       "0                   2        1         0  \n",
       "1                   2        2         0  \n",
       "2                   3        2       0.5  \n",
       "3                   4        3         1  \n",
       "4                   2        1         0  \n",
       "..                ...      ...       ...  \n",
       "349                 4        3         0  \n",
       "350                 3        3         1  \n",
       "351                 4        3         1  \n",
       "352                 2        3         1  \n",
       "353                 4        4         1  \n",
       "\n",
       "[354 rows x 14 columns]"
      ]
     },
     "execution_count": 8,
     "metadata": {},
     "output_type": "execute_result"
    }
   ],
   "source": [
    "df['has_dog'] = 0\n",
    "df.loc[df['pet_species'].apply(lambda species_list: 'Cachorro' in species_list), 'has_dog'] = 1\n",
    "\n",
    "df['has_cat'] = 0\n",
    "df.loc[df['pet_species'].apply(lambda species_list: 'Gato' in species_list), 'has_cat'] = 1\n",
    "\n",
    "df['has_others'] = 0\n",
    "df.loc[df['pet_species'].apply(lambda species_list: 'Outros' in species_list), 'has_others'] = 1\n",
    "df = df.drop(columns=['pet_species'])\n",
    "\n",
    "## reordenando colunas, para colocar a resposta (usaria) no final\n",
    "df = df[['age', 'gender', 'time_in_social_media', 'people_living_together', 'social_class', 'has_pets', 'number_of_pets', 'has_dog', 'has_cat','has_others', 'forgets', 'report_abandoned', 'feeling', 'would_use',]]\n",
    "df"
   ]
  },
  {
   "cell_type": "markdown",
   "metadata": {},
   "source": [
    "### DataFrame tratado"
   ]
  },
  {
   "cell_type": "code",
   "execution_count": 9,
   "metadata": {},
   "outputs": [
    {
     "data": {
      "text/html": [
       "<div>\n",
       "<style scoped>\n",
       "    .dataframe tbody tr th:only-of-type {\n",
       "        vertical-align: middle;\n",
       "    }\n",
       "\n",
       "    .dataframe tbody tr th {\n",
       "        vertical-align: top;\n",
       "    }\n",
       "\n",
       "    .dataframe thead th {\n",
       "        text-align: right;\n",
       "    }\n",
       "</style>\n",
       "<table border=\"1\" class=\"dataframe\">\n",
       "  <thead>\n",
       "    <tr style=\"text-align: right;\">\n",
       "      <th></th>\n",
       "      <th>age</th>\n",
       "      <th>gender</th>\n",
       "      <th>time_in_social_media</th>\n",
       "      <th>people_living_together</th>\n",
       "      <th>social_class</th>\n",
       "      <th>has_pets</th>\n",
       "      <th>number_of_pets</th>\n",
       "      <th>has_dog</th>\n",
       "      <th>has_cat</th>\n",
       "      <th>has_others</th>\n",
       "      <th>forgets</th>\n",
       "      <th>report_abandoned</th>\n",
       "      <th>feeling</th>\n",
       "      <th>would_use</th>\n",
       "    </tr>\n",
       "  </thead>\n",
       "  <tbody>\n",
       "    <tr>\n",
       "      <th>0</th>\n",
       "      <td>15</td>\n",
       "      <td>0</td>\n",
       "      <td>2</td>\n",
       "      <td>3</td>\n",
       "      <td>3</td>\n",
       "      <td>0</td>\n",
       "      <td>0</td>\n",
       "      <td>0</td>\n",
       "      <td>0</td>\n",
       "      <td>0</td>\n",
       "      <td>1</td>\n",
       "      <td>2</td>\n",
       "      <td>1</td>\n",
       "      <td>0</td>\n",
       "    </tr>\n",
       "    <tr>\n",
       "      <th>1</th>\n",
       "      <td>15</td>\n",
       "      <td>1</td>\n",
       "      <td>2</td>\n",
       "      <td>4</td>\n",
       "      <td>4</td>\n",
       "      <td>0</td>\n",
       "      <td>0</td>\n",
       "      <td>0</td>\n",
       "      <td>0</td>\n",
       "      <td>0</td>\n",
       "      <td>1</td>\n",
       "      <td>2</td>\n",
       "      <td>2</td>\n",
       "      <td>0</td>\n",
       "    </tr>\n",
       "    <tr>\n",
       "      <th>2</th>\n",
       "      <td>15</td>\n",
       "      <td>0</td>\n",
       "      <td>4</td>\n",
       "      <td>4</td>\n",
       "      <td>4</td>\n",
       "      <td>1</td>\n",
       "      <td>1</td>\n",
       "      <td>1</td>\n",
       "      <td>0</td>\n",
       "      <td>0</td>\n",
       "      <td>1</td>\n",
       "      <td>3</td>\n",
       "      <td>2</td>\n",
       "      <td>0.5</td>\n",
       "    </tr>\n",
       "    <tr>\n",
       "      <th>3</th>\n",
       "      <td>20</td>\n",
       "      <td>0</td>\n",
       "      <td>0</td>\n",
       "      <td>4</td>\n",
       "      <td>2</td>\n",
       "      <td>1</td>\n",
       "      <td>1</td>\n",
       "      <td>1</td>\n",
       "      <td>0</td>\n",
       "      <td>0</td>\n",
       "      <td>0</td>\n",
       "      <td>4</td>\n",
       "      <td>3</td>\n",
       "      <td>1</td>\n",
       "    </tr>\n",
       "    <tr>\n",
       "      <th>4</th>\n",
       "      <td>15</td>\n",
       "      <td>0</td>\n",
       "      <td>2</td>\n",
       "      <td>4</td>\n",
       "      <td>4</td>\n",
       "      <td>0</td>\n",
       "      <td>0</td>\n",
       "      <td>0</td>\n",
       "      <td>0</td>\n",
       "      <td>0</td>\n",
       "      <td>1</td>\n",
       "      <td>2</td>\n",
       "      <td>1</td>\n",
       "      <td>0</td>\n",
       "    </tr>\n",
       "    <tr>\n",
       "      <th>...</th>\n",
       "      <td>...</td>\n",
       "      <td>...</td>\n",
       "      <td>...</td>\n",
       "      <td>...</td>\n",
       "      <td>...</td>\n",
       "      <td>...</td>\n",
       "      <td>...</td>\n",
       "      <td>...</td>\n",
       "      <td>...</td>\n",
       "      <td>...</td>\n",
       "      <td>...</td>\n",
       "      <td>...</td>\n",
       "      <td>...</td>\n",
       "      <td>...</td>\n",
       "    </tr>\n",
       "    <tr>\n",
       "      <th>349</th>\n",
       "      <td>40</td>\n",
       "      <td>1</td>\n",
       "      <td>2</td>\n",
       "      <td>4</td>\n",
       "      <td>3</td>\n",
       "      <td>1</td>\n",
       "      <td>2</td>\n",
       "      <td>0</td>\n",
       "      <td>0</td>\n",
       "      <td>0</td>\n",
       "      <td>0</td>\n",
       "      <td>4</td>\n",
       "      <td>3</td>\n",
       "      <td>0</td>\n",
       "    </tr>\n",
       "    <tr>\n",
       "      <th>350</th>\n",
       "      <td>50</td>\n",
       "      <td>1</td>\n",
       "      <td>2</td>\n",
       "      <td>2</td>\n",
       "      <td>3</td>\n",
       "      <td>1</td>\n",
       "      <td>1</td>\n",
       "      <td>1</td>\n",
       "      <td>0</td>\n",
       "      <td>0</td>\n",
       "      <td>0</td>\n",
       "      <td>3</td>\n",
       "      <td>3</td>\n",
       "      <td>1</td>\n",
       "    </tr>\n",
       "    <tr>\n",
       "      <th>351</th>\n",
       "      <td>40</td>\n",
       "      <td>1</td>\n",
       "      <td>2</td>\n",
       "      <td>3</td>\n",
       "      <td>3</td>\n",
       "      <td>1</td>\n",
       "      <td>1</td>\n",
       "      <td>1</td>\n",
       "      <td>0</td>\n",
       "      <td>0</td>\n",
       "      <td>1</td>\n",
       "      <td>4</td>\n",
       "      <td>3</td>\n",
       "      <td>1</td>\n",
       "    </tr>\n",
       "    <tr>\n",
       "      <th>352</th>\n",
       "      <td>50</td>\n",
       "      <td>0</td>\n",
       "      <td>0</td>\n",
       "      <td>2</td>\n",
       "      <td>3</td>\n",
       "      <td>0</td>\n",
       "      <td>0</td>\n",
       "      <td>0</td>\n",
       "      <td>0</td>\n",
       "      <td>0</td>\n",
       "      <td>1</td>\n",
       "      <td>2</td>\n",
       "      <td>3</td>\n",
       "      <td>1</td>\n",
       "    </tr>\n",
       "    <tr>\n",
       "      <th>353</th>\n",
       "      <td>50</td>\n",
       "      <td>1</td>\n",
       "      <td>2</td>\n",
       "      <td>4</td>\n",
       "      <td>3</td>\n",
       "      <td>1</td>\n",
       "      <td>2</td>\n",
       "      <td>1</td>\n",
       "      <td>0</td>\n",
       "      <td>0</td>\n",
       "      <td>1</td>\n",
       "      <td>4</td>\n",
       "      <td>4</td>\n",
       "      <td>1</td>\n",
       "    </tr>\n",
       "  </tbody>\n",
       "</table>\n",
       "<p>354 rows × 14 columns</p>\n",
       "</div>"
      ],
      "text/plain": [
       "    age gender time_in_social_media  people_living_together social_class  \\\n",
       "0    15      0                    2                       3            3   \n",
       "1    15      1                    2                       4            4   \n",
       "2    15      0                    4                       4            4   \n",
       "3    20      0                    0                       4            2   \n",
       "4    15      0                    2                       4            4   \n",
       "..   ..    ...                  ...                     ...          ...   \n",
       "349  40      1                    2                       4            3   \n",
       "350  50      1                    2                       2            3   \n",
       "351  40      1                    2                       3            3   \n",
       "352  50      0                    0                       2            3   \n",
       "353  50      1                    2                       4            3   \n",
       "\n",
       "    has_pets  number_of_pets  has_dog  has_cat  has_others forgets  \\\n",
       "0          0               0        0        0           0       1   \n",
       "1          0               0        0        0           0       1   \n",
       "2          1               1        1        0           0       1   \n",
       "3          1               1        1        0           0       0   \n",
       "4          0               0        0        0           0       1   \n",
       "..       ...             ...      ...      ...         ...     ...   \n",
       "349        1               2        0        0           0       0   \n",
       "350        1               1        1        0           0       0   \n",
       "351        1               1        1        0           0       1   \n",
       "352        0               0        0        0           0       1   \n",
       "353        1               2        1        0           0       1   \n",
       "\n",
       "     report_abandoned  feeling would_use  \n",
       "0                   2        1         0  \n",
       "1                   2        2         0  \n",
       "2                   3        2       0.5  \n",
       "3                   4        3         1  \n",
       "4                   2        1         0  \n",
       "..                ...      ...       ...  \n",
       "349                 4        3         0  \n",
       "350                 3        3         1  \n",
       "351                 4        3         1  \n",
       "352                 2        3         1  \n",
       "353                 4        4         1  \n",
       "\n",
       "[354 rows x 14 columns]"
      ]
     },
     "metadata": {},
     "output_type": "display_data"
    }
   ],
   "source": [
    "df = df.loc[:, 'age':]\n",
    "display(df)"
   ]
  },
  {
   "cell_type": "code",
   "execution_count": 10,
   "metadata": {},
   "outputs": [],
   "source": [
    "df.to_csv('treated_df.csv')"
   ]
  },
  {
   "cell_type": "markdown",
   "metadata": {},
   "source": [
    "# Análise"
   ]
  },
  {
   "cell_type": "code",
   "execution_count": 11,
   "metadata": {},
   "outputs": [
    {
     "data": {
      "application/vnd.plotly.v1+json": {
       "config": {
        "plotlyServerURL": "https://plot.ly"
       },
       "data": [
        {
         "domain": {
          "x": [
           0,
           1
          ],
          "y": [
           0,
           1
          ]
         },
         "hovertemplate": "would_use=%{label}<extra></extra>",
         "labels": [
          0,
          0,
          0.5,
          1,
          0,
          0,
          1,
          1,
          0,
          0.5,
          0.5,
          1,
          0,
          1,
          1,
          0.5,
          0,
          0,
          0.5,
          1,
          1,
          1,
          0,
          0.5,
          1,
          1,
          0.5,
          0,
          0,
          0.5,
          0,
          0,
          1,
          0,
          0,
          0.5,
          1,
          0.5,
          1,
          0.5,
          0.5,
          0,
          0.5,
          0,
          0,
          1,
          0,
          0.5,
          1,
          0.5,
          1,
          0.5,
          0,
          1,
          0,
          0,
          0,
          0.5,
          1,
          0.5,
          1,
          0.5,
          1,
          0.5,
          0,
          1,
          1,
          0.5,
          0.5,
          0.5,
          0.5,
          1,
          0,
          0.5,
          0.5,
          1,
          0,
          1,
          0.5,
          0,
          1,
          0,
          0.5,
          1,
          0.5,
          0,
          0.5,
          1,
          0,
          0,
          0.5,
          1,
          0.5,
          0.5,
          0.5,
          0.5,
          1,
          1,
          0.5,
          0,
          0.5,
          0.5,
          0.5,
          1,
          0,
          0.5,
          0.5,
          0,
          0,
          0.5,
          1,
          0,
          0.5,
          1,
          1,
          1,
          0.5,
          1,
          0.5,
          0,
          1,
          1,
          0,
          0.5,
          0.5,
          1,
          0,
          0.5,
          0,
          0.5,
          1,
          1,
          1,
          0,
          0,
          0.5,
          1,
          0.5,
          0,
          1,
          0.5,
          0.5,
          0,
          0.5,
          0,
          1,
          0.5,
          1,
          1,
          1,
          0,
          0,
          1,
          1,
          1,
          1,
          0.5,
          1,
          0.5,
          0.5,
          1,
          0,
          0.5,
          0.5,
          0.5,
          0.5,
          1,
          0,
          1,
          1,
          1,
          1,
          1,
          0,
          0.5,
          0.5,
          1,
          0.5,
          0.5,
          0,
          0,
          0.5,
          1,
          1,
          1,
          0.5,
          1,
          1,
          1,
          0.5,
          1,
          0.5,
          0,
          1,
          1,
          0.5,
          1,
          0,
          0,
          0,
          1,
          0,
          0,
          1,
          1,
          1,
          0.5,
          1,
          1,
          1,
          1,
          1,
          0.5,
          0,
          0.5,
          0.5,
          1,
          1,
          0.5,
          1,
          1,
          0,
          1,
          1,
          0,
          0.5,
          0.5,
          1,
          1,
          1,
          1,
          0,
          0.5,
          0.5,
          0.5,
          1,
          1,
          0.5,
          1,
          0.5,
          1,
          1,
          1,
          1,
          0.5,
          0.5,
          0.5,
          0.5,
          1,
          1,
          0,
          1,
          1,
          1,
          1,
          1,
          1,
          0.5,
          1,
          0,
          1,
          1,
          1,
          1,
          1,
          1,
          1,
          0.5,
          1,
          0.5,
          0.5,
          0,
          0.5,
          1,
          0,
          0.5,
          0,
          1,
          1,
          0.5,
          0.5,
          0,
          1,
          0.5,
          0.5,
          1,
          1,
          1,
          1,
          0.5,
          0,
          1,
          0.5,
          1,
          1,
          0.5,
          0.5,
          1,
          0.5,
          0.5,
          1,
          1,
          1,
          0,
          1,
          1,
          0,
          0.5,
          0,
          1,
          0.5,
          1,
          1,
          1,
          0.5,
          1,
          1,
          0,
          0,
          0.5,
          1,
          1,
          0,
          0.5,
          1,
          1,
          1,
          1,
          1,
          1,
          0.5,
          0,
          1,
          0,
          0.5,
          1,
          1,
          1,
          1,
          1,
          1,
          0,
          0.5,
          0,
          1,
          1,
          1,
          1,
          0,
          0,
          1,
          1,
          1,
          1
         ],
         "legendgroup": "",
         "name": "",
         "showlegend": true,
         "type": "pie"
        }
       ],
       "layout": {
        "legend": {
         "tracegroupgap": 0
        },
        "margin": {
         "t": 60
        },
        "template": {
         "data": {
          "bar": [
           {
            "error_x": {
             "color": "#2a3f5f"
            },
            "error_y": {
             "color": "#2a3f5f"
            },
            "marker": {
             "line": {
              "color": "#E5ECF6",
              "width": 0.5
             },
             "pattern": {
              "fillmode": "overlay",
              "size": 10,
              "solidity": 0.2
             }
            },
            "type": "bar"
           }
          ],
          "barpolar": [
           {
            "marker": {
             "line": {
              "color": "#E5ECF6",
              "width": 0.5
             },
             "pattern": {
              "fillmode": "overlay",
              "size": 10,
              "solidity": 0.2
             }
            },
            "type": "barpolar"
           }
          ],
          "carpet": [
           {
            "aaxis": {
             "endlinecolor": "#2a3f5f",
             "gridcolor": "white",
             "linecolor": "white",
             "minorgridcolor": "white",
             "startlinecolor": "#2a3f5f"
            },
            "baxis": {
             "endlinecolor": "#2a3f5f",
             "gridcolor": "white",
             "linecolor": "white",
             "minorgridcolor": "white",
             "startlinecolor": "#2a3f5f"
            },
            "type": "carpet"
           }
          ],
          "choropleth": [
           {
            "colorbar": {
             "outlinewidth": 0,
             "ticks": ""
            },
            "type": "choropleth"
           }
          ],
          "contour": [
           {
            "colorbar": {
             "outlinewidth": 0,
             "ticks": ""
            },
            "colorscale": [
             [
              0,
              "#0d0887"
             ],
             [
              0.1111111111111111,
              "#46039f"
             ],
             [
              0.2222222222222222,
              "#7201a8"
             ],
             [
              0.3333333333333333,
              "#9c179e"
             ],
             [
              0.4444444444444444,
              "#bd3786"
             ],
             [
              0.5555555555555556,
              "#d8576b"
             ],
             [
              0.6666666666666666,
              "#ed7953"
             ],
             [
              0.7777777777777778,
              "#fb9f3a"
             ],
             [
              0.8888888888888888,
              "#fdca26"
             ],
             [
              1,
              "#f0f921"
             ]
            ],
            "type": "contour"
           }
          ],
          "contourcarpet": [
           {
            "colorbar": {
             "outlinewidth": 0,
             "ticks": ""
            },
            "type": "contourcarpet"
           }
          ],
          "heatmap": [
           {
            "colorbar": {
             "outlinewidth": 0,
             "ticks": ""
            },
            "colorscale": [
             [
              0,
              "#0d0887"
             ],
             [
              0.1111111111111111,
              "#46039f"
             ],
             [
              0.2222222222222222,
              "#7201a8"
             ],
             [
              0.3333333333333333,
              "#9c179e"
             ],
             [
              0.4444444444444444,
              "#bd3786"
             ],
             [
              0.5555555555555556,
              "#d8576b"
             ],
             [
              0.6666666666666666,
              "#ed7953"
             ],
             [
              0.7777777777777778,
              "#fb9f3a"
             ],
             [
              0.8888888888888888,
              "#fdca26"
             ],
             [
              1,
              "#f0f921"
             ]
            ],
            "type": "heatmap"
           }
          ],
          "heatmapgl": [
           {
            "colorbar": {
             "outlinewidth": 0,
             "ticks": ""
            },
            "colorscale": [
             [
              0,
              "#0d0887"
             ],
             [
              0.1111111111111111,
              "#46039f"
             ],
             [
              0.2222222222222222,
              "#7201a8"
             ],
             [
              0.3333333333333333,
              "#9c179e"
             ],
             [
              0.4444444444444444,
              "#bd3786"
             ],
             [
              0.5555555555555556,
              "#d8576b"
             ],
             [
              0.6666666666666666,
              "#ed7953"
             ],
             [
              0.7777777777777778,
              "#fb9f3a"
             ],
             [
              0.8888888888888888,
              "#fdca26"
             ],
             [
              1,
              "#f0f921"
             ]
            ],
            "type": "heatmapgl"
           }
          ],
          "histogram": [
           {
            "marker": {
             "pattern": {
              "fillmode": "overlay",
              "size": 10,
              "solidity": 0.2
             }
            },
            "type": "histogram"
           }
          ],
          "histogram2d": [
           {
            "colorbar": {
             "outlinewidth": 0,
             "ticks": ""
            },
            "colorscale": [
             [
              0,
              "#0d0887"
             ],
             [
              0.1111111111111111,
              "#46039f"
             ],
             [
              0.2222222222222222,
              "#7201a8"
             ],
             [
              0.3333333333333333,
              "#9c179e"
             ],
             [
              0.4444444444444444,
              "#bd3786"
             ],
             [
              0.5555555555555556,
              "#d8576b"
             ],
             [
              0.6666666666666666,
              "#ed7953"
             ],
             [
              0.7777777777777778,
              "#fb9f3a"
             ],
             [
              0.8888888888888888,
              "#fdca26"
             ],
             [
              1,
              "#f0f921"
             ]
            ],
            "type": "histogram2d"
           }
          ],
          "histogram2dcontour": [
           {
            "colorbar": {
             "outlinewidth": 0,
             "ticks": ""
            },
            "colorscale": [
             [
              0,
              "#0d0887"
             ],
             [
              0.1111111111111111,
              "#46039f"
             ],
             [
              0.2222222222222222,
              "#7201a8"
             ],
             [
              0.3333333333333333,
              "#9c179e"
             ],
             [
              0.4444444444444444,
              "#bd3786"
             ],
             [
              0.5555555555555556,
              "#d8576b"
             ],
             [
              0.6666666666666666,
              "#ed7953"
             ],
             [
              0.7777777777777778,
              "#fb9f3a"
             ],
             [
              0.8888888888888888,
              "#fdca26"
             ],
             [
              1,
              "#f0f921"
             ]
            ],
            "type": "histogram2dcontour"
           }
          ],
          "mesh3d": [
           {
            "colorbar": {
             "outlinewidth": 0,
             "ticks": ""
            },
            "type": "mesh3d"
           }
          ],
          "parcoords": [
           {
            "line": {
             "colorbar": {
              "outlinewidth": 0,
              "ticks": ""
             }
            },
            "type": "parcoords"
           }
          ],
          "pie": [
           {
            "automargin": true,
            "type": "pie"
           }
          ],
          "scatter": [
           {
            "fillpattern": {
             "fillmode": "overlay",
             "size": 10,
             "solidity": 0.2
            },
            "type": "scatter"
           }
          ],
          "scatter3d": [
           {
            "line": {
             "colorbar": {
              "outlinewidth": 0,
              "ticks": ""
             }
            },
            "marker": {
             "colorbar": {
              "outlinewidth": 0,
              "ticks": ""
             }
            },
            "type": "scatter3d"
           }
          ],
          "scattercarpet": [
           {
            "marker": {
             "colorbar": {
              "outlinewidth": 0,
              "ticks": ""
             }
            },
            "type": "scattercarpet"
           }
          ],
          "scattergeo": [
           {
            "marker": {
             "colorbar": {
              "outlinewidth": 0,
              "ticks": ""
             }
            },
            "type": "scattergeo"
           }
          ],
          "scattergl": [
           {
            "marker": {
             "colorbar": {
              "outlinewidth": 0,
              "ticks": ""
             }
            },
            "type": "scattergl"
           }
          ],
          "scattermapbox": [
           {
            "marker": {
             "colorbar": {
              "outlinewidth": 0,
              "ticks": ""
             }
            },
            "type": "scattermapbox"
           }
          ],
          "scatterpolar": [
           {
            "marker": {
             "colorbar": {
              "outlinewidth": 0,
              "ticks": ""
             }
            },
            "type": "scatterpolar"
           }
          ],
          "scatterpolargl": [
           {
            "marker": {
             "colorbar": {
              "outlinewidth": 0,
              "ticks": ""
             }
            },
            "type": "scatterpolargl"
           }
          ],
          "scatterternary": [
           {
            "marker": {
             "colorbar": {
              "outlinewidth": 0,
              "ticks": ""
             }
            },
            "type": "scatterternary"
           }
          ],
          "surface": [
           {
            "colorbar": {
             "outlinewidth": 0,
             "ticks": ""
            },
            "colorscale": [
             [
              0,
              "#0d0887"
             ],
             [
              0.1111111111111111,
              "#46039f"
             ],
             [
              0.2222222222222222,
              "#7201a8"
             ],
             [
              0.3333333333333333,
              "#9c179e"
             ],
             [
              0.4444444444444444,
              "#bd3786"
             ],
             [
              0.5555555555555556,
              "#d8576b"
             ],
             [
              0.6666666666666666,
              "#ed7953"
             ],
             [
              0.7777777777777778,
              "#fb9f3a"
             ],
             [
              0.8888888888888888,
              "#fdca26"
             ],
             [
              1,
              "#f0f921"
             ]
            ],
            "type": "surface"
           }
          ],
          "table": [
           {
            "cells": {
             "fill": {
              "color": "#EBF0F8"
             },
             "line": {
              "color": "white"
             }
            },
            "header": {
             "fill": {
              "color": "#C8D4E3"
             },
             "line": {
              "color": "white"
             }
            },
            "type": "table"
           }
          ]
         },
         "layout": {
          "annotationdefaults": {
           "arrowcolor": "#2a3f5f",
           "arrowhead": 0,
           "arrowwidth": 1
          },
          "autotypenumbers": "strict",
          "coloraxis": {
           "colorbar": {
            "outlinewidth": 0,
            "ticks": ""
           }
          },
          "colorscale": {
           "diverging": [
            [
             0,
             "#8e0152"
            ],
            [
             0.1,
             "#c51b7d"
            ],
            [
             0.2,
             "#de77ae"
            ],
            [
             0.3,
             "#f1b6da"
            ],
            [
             0.4,
             "#fde0ef"
            ],
            [
             0.5,
             "#f7f7f7"
            ],
            [
             0.6,
             "#e6f5d0"
            ],
            [
             0.7,
             "#b8e186"
            ],
            [
             0.8,
             "#7fbc41"
            ],
            [
             0.9,
             "#4d9221"
            ],
            [
             1,
             "#276419"
            ]
           ],
           "sequential": [
            [
             0,
             "#0d0887"
            ],
            [
             0.1111111111111111,
             "#46039f"
            ],
            [
             0.2222222222222222,
             "#7201a8"
            ],
            [
             0.3333333333333333,
             "#9c179e"
            ],
            [
             0.4444444444444444,
             "#bd3786"
            ],
            [
             0.5555555555555556,
             "#d8576b"
            ],
            [
             0.6666666666666666,
             "#ed7953"
            ],
            [
             0.7777777777777778,
             "#fb9f3a"
            ],
            [
             0.8888888888888888,
             "#fdca26"
            ],
            [
             1,
             "#f0f921"
            ]
           ],
           "sequentialminus": [
            [
             0,
             "#0d0887"
            ],
            [
             0.1111111111111111,
             "#46039f"
            ],
            [
             0.2222222222222222,
             "#7201a8"
            ],
            [
             0.3333333333333333,
             "#9c179e"
            ],
            [
             0.4444444444444444,
             "#bd3786"
            ],
            [
             0.5555555555555556,
             "#d8576b"
            ],
            [
             0.6666666666666666,
             "#ed7953"
            ],
            [
             0.7777777777777778,
             "#fb9f3a"
            ],
            [
             0.8888888888888888,
             "#fdca26"
            ],
            [
             1,
             "#f0f921"
            ]
           ]
          },
          "colorway": [
           "#636efa",
           "#EF553B",
           "#00cc96",
           "#ab63fa",
           "#FFA15A",
           "#19d3f3",
           "#FF6692",
           "#B6E880",
           "#FF97FF",
           "#FECB52"
          ],
          "font": {
           "color": "#2a3f5f"
          },
          "geo": {
           "bgcolor": "white",
           "lakecolor": "white",
           "landcolor": "#E5ECF6",
           "showlakes": true,
           "showland": true,
           "subunitcolor": "white"
          },
          "hoverlabel": {
           "align": "left"
          },
          "hovermode": "closest",
          "mapbox": {
           "style": "light"
          },
          "paper_bgcolor": "white",
          "plot_bgcolor": "#E5ECF6",
          "polar": {
           "angularaxis": {
            "gridcolor": "white",
            "linecolor": "white",
            "ticks": ""
           },
           "bgcolor": "#E5ECF6",
           "radialaxis": {
            "gridcolor": "white",
            "linecolor": "white",
            "ticks": ""
           }
          },
          "scene": {
           "xaxis": {
            "backgroundcolor": "#E5ECF6",
            "gridcolor": "white",
            "gridwidth": 2,
            "linecolor": "white",
            "showbackground": true,
            "ticks": "",
            "zerolinecolor": "white"
           },
           "yaxis": {
            "backgroundcolor": "#E5ECF6",
            "gridcolor": "white",
            "gridwidth": 2,
            "linecolor": "white",
            "showbackground": true,
            "ticks": "",
            "zerolinecolor": "white"
           },
           "zaxis": {
            "backgroundcolor": "#E5ECF6",
            "gridcolor": "white",
            "gridwidth": 2,
            "linecolor": "white",
            "showbackground": true,
            "ticks": "",
            "zerolinecolor": "white"
           }
          },
          "shapedefaults": {
           "line": {
            "color": "#2a3f5f"
           }
          },
          "ternary": {
           "aaxis": {
            "gridcolor": "white",
            "linecolor": "white",
            "ticks": ""
           },
           "baxis": {
            "gridcolor": "white",
            "linecolor": "white",
            "ticks": ""
           },
           "bgcolor": "#E5ECF6",
           "caxis": {
            "gridcolor": "white",
            "linecolor": "white",
            "ticks": ""
           }
          },
          "title": {
           "x": 0.05
          },
          "xaxis": {
           "automargin": true,
           "gridcolor": "white",
           "linecolor": "white",
           "ticks": "",
           "title": {
            "standoff": 15
           },
           "zerolinecolor": "white",
           "zerolinewidth": 2
          },
          "yaxis": {
           "automargin": true,
           "gridcolor": "white",
           "linecolor": "white",
           "ticks": "",
           "title": {
            "standoff": 15
           },
           "zerolinecolor": "white",
           "zerolinewidth": 2
          }
         }
        }
       }
      }
     },
     "metadata": {},
     "output_type": "display_data"
    }
   ],
   "source": [
    "fig = px.pie(df, names='would_use')\n",
    "fig.show()"
   ]
  },
  {
   "cell_type": "code",
   "execution_count": 12,
   "metadata": {},
   "outputs": [
    {
     "data": {
      "application/vnd.plotly.v1+json": {
       "config": {
        "plotlyServerURL": "https://plot.ly"
       },
       "data": [
        {
         "domain": {
          "x": [
           0,
           1
          ],
          "y": [
           0,
           1
          ]
         },
         "hovertemplate": "number_of_pets=%{label}<extra></extra>",
         "labels": [
          1,
          0,
          1,
          1,
          0,
          1,
          4,
          1,
          0,
          0,
          0,
          2,
          1,
          2,
          1,
          1,
          0,
          3,
          1,
          1,
          2,
          0,
          0,
          1,
          2,
          0,
          1,
          1,
          1,
          3,
          3,
          1,
          0,
          2,
          1,
          3,
          1,
          2,
          2,
          2,
          1,
          0,
          2,
          6,
          4,
          9,
          1,
          1,
          0,
          2,
          1,
          1,
          1,
          0,
          4,
          1,
          0,
          0,
          0,
          4,
          4,
          1,
          0,
          5,
          0,
          0,
          1,
          0,
          2,
          0,
          0,
          0,
          0,
          1,
          0,
          9,
          0,
          2,
          1,
          1,
          0,
          4,
          1,
          0,
          2,
          2,
          1,
          2,
          3,
          2,
          0,
          2,
          3,
          1,
          3,
          1,
          1,
          2,
          2,
          2,
          1,
          1,
          0,
          0,
          3,
          9,
          10,
          2,
          1,
          1,
          2,
          3,
          4,
          3,
          0,
          10,
          1,
          7,
          1,
          0,
          2,
          3,
          1,
          6,
          1,
          0,
          1,
          1,
          1,
          1,
          1,
          3,
          1,
          0,
          1,
          1,
          1,
          2,
          4,
          1,
          0,
          1,
          3,
          1,
          2,
          0,
          5,
          0,
          0,
          0,
          1,
          0,
          1,
          0,
          1,
          1,
          1,
          1,
          1,
          1,
          0,
          2
         ],
         "legendgroup": "",
         "name": "",
         "showlegend": true,
         "type": "pie"
        }
       ],
       "layout": {
        "legend": {
         "tracegroupgap": 0
        },
        "margin": {
         "t": 60
        },
        "template": {
         "data": {
          "bar": [
           {
            "error_x": {
             "color": "#2a3f5f"
            },
            "error_y": {
             "color": "#2a3f5f"
            },
            "marker": {
             "line": {
              "color": "#E5ECF6",
              "width": 0.5
             },
             "pattern": {
              "fillmode": "overlay",
              "size": 10,
              "solidity": 0.2
             }
            },
            "type": "bar"
           }
          ],
          "barpolar": [
           {
            "marker": {
             "line": {
              "color": "#E5ECF6",
              "width": 0.5
             },
             "pattern": {
              "fillmode": "overlay",
              "size": 10,
              "solidity": 0.2
             }
            },
            "type": "barpolar"
           }
          ],
          "carpet": [
           {
            "aaxis": {
             "endlinecolor": "#2a3f5f",
             "gridcolor": "white",
             "linecolor": "white",
             "minorgridcolor": "white",
             "startlinecolor": "#2a3f5f"
            },
            "baxis": {
             "endlinecolor": "#2a3f5f",
             "gridcolor": "white",
             "linecolor": "white",
             "minorgridcolor": "white",
             "startlinecolor": "#2a3f5f"
            },
            "type": "carpet"
           }
          ],
          "choropleth": [
           {
            "colorbar": {
             "outlinewidth": 0,
             "ticks": ""
            },
            "type": "choropleth"
           }
          ],
          "contour": [
           {
            "colorbar": {
             "outlinewidth": 0,
             "ticks": ""
            },
            "colorscale": [
             [
              0,
              "#0d0887"
             ],
             [
              0.1111111111111111,
              "#46039f"
             ],
             [
              0.2222222222222222,
              "#7201a8"
             ],
             [
              0.3333333333333333,
              "#9c179e"
             ],
             [
              0.4444444444444444,
              "#bd3786"
             ],
             [
              0.5555555555555556,
              "#d8576b"
             ],
             [
              0.6666666666666666,
              "#ed7953"
             ],
             [
              0.7777777777777778,
              "#fb9f3a"
             ],
             [
              0.8888888888888888,
              "#fdca26"
             ],
             [
              1,
              "#f0f921"
             ]
            ],
            "type": "contour"
           }
          ],
          "contourcarpet": [
           {
            "colorbar": {
             "outlinewidth": 0,
             "ticks": ""
            },
            "type": "contourcarpet"
           }
          ],
          "heatmap": [
           {
            "colorbar": {
             "outlinewidth": 0,
             "ticks": ""
            },
            "colorscale": [
             [
              0,
              "#0d0887"
             ],
             [
              0.1111111111111111,
              "#46039f"
             ],
             [
              0.2222222222222222,
              "#7201a8"
             ],
             [
              0.3333333333333333,
              "#9c179e"
             ],
             [
              0.4444444444444444,
              "#bd3786"
             ],
             [
              0.5555555555555556,
              "#d8576b"
             ],
             [
              0.6666666666666666,
              "#ed7953"
             ],
             [
              0.7777777777777778,
              "#fb9f3a"
             ],
             [
              0.8888888888888888,
              "#fdca26"
             ],
             [
              1,
              "#f0f921"
             ]
            ],
            "type": "heatmap"
           }
          ],
          "heatmapgl": [
           {
            "colorbar": {
             "outlinewidth": 0,
             "ticks": ""
            },
            "colorscale": [
             [
              0,
              "#0d0887"
             ],
             [
              0.1111111111111111,
              "#46039f"
             ],
             [
              0.2222222222222222,
              "#7201a8"
             ],
             [
              0.3333333333333333,
              "#9c179e"
             ],
             [
              0.4444444444444444,
              "#bd3786"
             ],
             [
              0.5555555555555556,
              "#d8576b"
             ],
             [
              0.6666666666666666,
              "#ed7953"
             ],
             [
              0.7777777777777778,
              "#fb9f3a"
             ],
             [
              0.8888888888888888,
              "#fdca26"
             ],
             [
              1,
              "#f0f921"
             ]
            ],
            "type": "heatmapgl"
           }
          ],
          "histogram": [
           {
            "marker": {
             "pattern": {
              "fillmode": "overlay",
              "size": 10,
              "solidity": 0.2
             }
            },
            "type": "histogram"
           }
          ],
          "histogram2d": [
           {
            "colorbar": {
             "outlinewidth": 0,
             "ticks": ""
            },
            "colorscale": [
             [
              0,
              "#0d0887"
             ],
             [
              0.1111111111111111,
              "#46039f"
             ],
             [
              0.2222222222222222,
              "#7201a8"
             ],
             [
              0.3333333333333333,
              "#9c179e"
             ],
             [
              0.4444444444444444,
              "#bd3786"
             ],
             [
              0.5555555555555556,
              "#d8576b"
             ],
             [
              0.6666666666666666,
              "#ed7953"
             ],
             [
              0.7777777777777778,
              "#fb9f3a"
             ],
             [
              0.8888888888888888,
              "#fdca26"
             ],
             [
              1,
              "#f0f921"
             ]
            ],
            "type": "histogram2d"
           }
          ],
          "histogram2dcontour": [
           {
            "colorbar": {
             "outlinewidth": 0,
             "ticks": ""
            },
            "colorscale": [
             [
              0,
              "#0d0887"
             ],
             [
              0.1111111111111111,
              "#46039f"
             ],
             [
              0.2222222222222222,
              "#7201a8"
             ],
             [
              0.3333333333333333,
              "#9c179e"
             ],
             [
              0.4444444444444444,
              "#bd3786"
             ],
             [
              0.5555555555555556,
              "#d8576b"
             ],
             [
              0.6666666666666666,
              "#ed7953"
             ],
             [
              0.7777777777777778,
              "#fb9f3a"
             ],
             [
              0.8888888888888888,
              "#fdca26"
             ],
             [
              1,
              "#f0f921"
             ]
            ],
            "type": "histogram2dcontour"
           }
          ],
          "mesh3d": [
           {
            "colorbar": {
             "outlinewidth": 0,
             "ticks": ""
            },
            "type": "mesh3d"
           }
          ],
          "parcoords": [
           {
            "line": {
             "colorbar": {
              "outlinewidth": 0,
              "ticks": ""
             }
            },
            "type": "parcoords"
           }
          ],
          "pie": [
           {
            "automargin": true,
            "type": "pie"
           }
          ],
          "scatter": [
           {
            "fillpattern": {
             "fillmode": "overlay",
             "size": 10,
             "solidity": 0.2
            },
            "type": "scatter"
           }
          ],
          "scatter3d": [
           {
            "line": {
             "colorbar": {
              "outlinewidth": 0,
              "ticks": ""
             }
            },
            "marker": {
             "colorbar": {
              "outlinewidth": 0,
              "ticks": ""
             }
            },
            "type": "scatter3d"
           }
          ],
          "scattercarpet": [
           {
            "marker": {
             "colorbar": {
              "outlinewidth": 0,
              "ticks": ""
             }
            },
            "type": "scattercarpet"
           }
          ],
          "scattergeo": [
           {
            "marker": {
             "colorbar": {
              "outlinewidth": 0,
              "ticks": ""
             }
            },
            "type": "scattergeo"
           }
          ],
          "scattergl": [
           {
            "marker": {
             "colorbar": {
              "outlinewidth": 0,
              "ticks": ""
             }
            },
            "type": "scattergl"
           }
          ],
          "scattermapbox": [
           {
            "marker": {
             "colorbar": {
              "outlinewidth": 0,
              "ticks": ""
             }
            },
            "type": "scattermapbox"
           }
          ],
          "scatterpolar": [
           {
            "marker": {
             "colorbar": {
              "outlinewidth": 0,
              "ticks": ""
             }
            },
            "type": "scatterpolar"
           }
          ],
          "scatterpolargl": [
           {
            "marker": {
             "colorbar": {
              "outlinewidth": 0,
              "ticks": ""
             }
            },
            "type": "scatterpolargl"
           }
          ],
          "scatterternary": [
           {
            "marker": {
             "colorbar": {
              "outlinewidth": 0,
              "ticks": ""
             }
            },
            "type": "scatterternary"
           }
          ],
          "surface": [
           {
            "colorbar": {
             "outlinewidth": 0,
             "ticks": ""
            },
            "colorscale": [
             [
              0,
              "#0d0887"
             ],
             [
              0.1111111111111111,
              "#46039f"
             ],
             [
              0.2222222222222222,
              "#7201a8"
             ],
             [
              0.3333333333333333,
              "#9c179e"
             ],
             [
              0.4444444444444444,
              "#bd3786"
             ],
             [
              0.5555555555555556,
              "#d8576b"
             ],
             [
              0.6666666666666666,
              "#ed7953"
             ],
             [
              0.7777777777777778,
              "#fb9f3a"
             ],
             [
              0.8888888888888888,
              "#fdca26"
             ],
             [
              1,
              "#f0f921"
             ]
            ],
            "type": "surface"
           }
          ],
          "table": [
           {
            "cells": {
             "fill": {
              "color": "#EBF0F8"
             },
             "line": {
              "color": "white"
             }
            },
            "header": {
             "fill": {
              "color": "#C8D4E3"
             },
             "line": {
              "color": "white"
             }
            },
            "type": "table"
           }
          ]
         },
         "layout": {
          "annotationdefaults": {
           "arrowcolor": "#2a3f5f",
           "arrowhead": 0,
           "arrowwidth": 1
          },
          "autotypenumbers": "strict",
          "coloraxis": {
           "colorbar": {
            "outlinewidth": 0,
            "ticks": ""
           }
          },
          "colorscale": {
           "diverging": [
            [
             0,
             "#8e0152"
            ],
            [
             0.1,
             "#c51b7d"
            ],
            [
             0.2,
             "#de77ae"
            ],
            [
             0.3,
             "#f1b6da"
            ],
            [
             0.4,
             "#fde0ef"
            ],
            [
             0.5,
             "#f7f7f7"
            ],
            [
             0.6,
             "#e6f5d0"
            ],
            [
             0.7,
             "#b8e186"
            ],
            [
             0.8,
             "#7fbc41"
            ],
            [
             0.9,
             "#4d9221"
            ],
            [
             1,
             "#276419"
            ]
           ],
           "sequential": [
            [
             0,
             "#0d0887"
            ],
            [
             0.1111111111111111,
             "#46039f"
            ],
            [
             0.2222222222222222,
             "#7201a8"
            ],
            [
             0.3333333333333333,
             "#9c179e"
            ],
            [
             0.4444444444444444,
             "#bd3786"
            ],
            [
             0.5555555555555556,
             "#d8576b"
            ],
            [
             0.6666666666666666,
             "#ed7953"
            ],
            [
             0.7777777777777778,
             "#fb9f3a"
            ],
            [
             0.8888888888888888,
             "#fdca26"
            ],
            [
             1,
             "#f0f921"
            ]
           ],
           "sequentialminus": [
            [
             0,
             "#0d0887"
            ],
            [
             0.1111111111111111,
             "#46039f"
            ],
            [
             0.2222222222222222,
             "#7201a8"
            ],
            [
             0.3333333333333333,
             "#9c179e"
            ],
            [
             0.4444444444444444,
             "#bd3786"
            ],
            [
             0.5555555555555556,
             "#d8576b"
            ],
            [
             0.6666666666666666,
             "#ed7953"
            ],
            [
             0.7777777777777778,
             "#fb9f3a"
            ],
            [
             0.8888888888888888,
             "#fdca26"
            ],
            [
             1,
             "#f0f921"
            ]
           ]
          },
          "colorway": [
           "#636efa",
           "#EF553B",
           "#00cc96",
           "#ab63fa",
           "#FFA15A",
           "#19d3f3",
           "#FF6692",
           "#B6E880",
           "#FF97FF",
           "#FECB52"
          ],
          "font": {
           "color": "#2a3f5f"
          },
          "geo": {
           "bgcolor": "white",
           "lakecolor": "white",
           "landcolor": "#E5ECF6",
           "showlakes": true,
           "showland": true,
           "subunitcolor": "white"
          },
          "hoverlabel": {
           "align": "left"
          },
          "hovermode": "closest",
          "mapbox": {
           "style": "light"
          },
          "paper_bgcolor": "white",
          "plot_bgcolor": "#E5ECF6",
          "polar": {
           "angularaxis": {
            "gridcolor": "white",
            "linecolor": "white",
            "ticks": ""
           },
           "bgcolor": "#E5ECF6",
           "radialaxis": {
            "gridcolor": "white",
            "linecolor": "white",
            "ticks": ""
           }
          },
          "scene": {
           "xaxis": {
            "backgroundcolor": "#E5ECF6",
            "gridcolor": "white",
            "gridwidth": 2,
            "linecolor": "white",
            "showbackground": true,
            "ticks": "",
            "zerolinecolor": "white"
           },
           "yaxis": {
            "backgroundcolor": "#E5ECF6",
            "gridcolor": "white",
            "gridwidth": 2,
            "linecolor": "white",
            "showbackground": true,
            "ticks": "",
            "zerolinecolor": "white"
           },
           "zaxis": {
            "backgroundcolor": "#E5ECF6",
            "gridcolor": "white",
            "gridwidth": 2,
            "linecolor": "white",
            "showbackground": true,
            "ticks": "",
            "zerolinecolor": "white"
           }
          },
          "shapedefaults": {
           "line": {
            "color": "#2a3f5f"
           }
          },
          "ternary": {
           "aaxis": {
            "gridcolor": "white",
            "linecolor": "white",
            "ticks": ""
           },
           "baxis": {
            "gridcolor": "white",
            "linecolor": "white",
            "ticks": ""
           },
           "bgcolor": "#E5ECF6",
           "caxis": {
            "gridcolor": "white",
            "linecolor": "white",
            "ticks": ""
           }
          },
          "title": {
           "x": 0.05
          },
          "xaxis": {
           "automargin": true,
           "gridcolor": "white",
           "linecolor": "white",
           "ticks": "",
           "title": {
            "standoff": 15
           },
           "zerolinecolor": "white",
           "zerolinewidth": 2
          },
          "yaxis": {
           "automargin": true,
           "gridcolor": "white",
           "linecolor": "white",
           "ticks": "",
           "title": {
            "standoff": 15
           },
           "zerolinecolor": "white",
           "zerolinewidth": 2
          }
         }
        }
       }
      }
     },
     "metadata": {},
     "output_type": "display_data"
    }
   ],
   "source": [
    "would_use = df.loc[df['would_use'] == 1]\n",
    "px.pie(would_use, names='number_of_pets')"
   ]
  },
  {
   "cell_type": "code",
   "execution_count": 13,
   "metadata": {},
   "outputs": [],
   "source": [
    "# px.histogram(df, x='has_pets', color=9'has_pets')"
   ]
  },
  {
   "cell_type": "code",
   "execution_count": 14,
   "metadata": {},
   "outputs": [
    {
     "data": {
      "text/plain": [
       "<matplotlib.image.AxesImage at 0x1f5bf8e3a50>"
      ]
     },
     "execution_count": 14,
     "metadata": {},
     "output_type": "execute_result"
    },
    {
     "data": {
      "image/png": "[encoded data removed]",
      "text/plain": [
       "<Figure size 480x480 with 1 Axes>"
      ]
     },
     "metadata": {},
     "output_type": "display_data"
    }
   ],
   "source": [
    "df_numeric = df.copy()\n",
    "for coluna in df_numeric:\n",
    "    if df_numeric[coluna].dtype != 'int64':\n",
    "        df_numeric[coluna] = pd.factorize(df_numeric[coluna])[0]\n",
    "\n",
    "plt.matshow(df_numeric.corr())"
   ]
  },
  {
   "cell_type": "code",
   "execution_count": 15,
   "metadata": {},
   "outputs": [
    {
     "data": {
      "text/plain": [
       "[Text(0.5, 0, 'age'),\n",
       " Text(1.5, 0, 'gender'),\n",
       " Text(2.5, 0, 'time_in_social_media'),\n",
       " Text(3.5, 0, 'people_living_together'),\n",
       " Text(4.5, 0, 'social_class'),\n",
       " Text(5.5, 0, 'has_pets'),\n",
       " Text(6.5, 0, 'number_of_pets'),\n",
       " Text(7.5, 0, 'has_dog'),\n",
       " Text(8.5, 0, 'has_cat'),\n",
       " Text(9.5, 0, 'has_others'),\n",
       " Text(10.5, 0, 'forgets'),\n",
       " Text(11.5, 0, 'report_abandoned'),\n",
       " Text(12.5, 0, 'feeling'),\n",
       " Text(13.5, 0, 'would_use')]"
      ]
     },
     "execution_count": 15,
     "metadata": {},
     "output_type": "execute_result"
    },
    {
     "data": {
      "image/png": "[encoded data removed]",
      "text/plain": [
       "<Figure size 640x480 with 2 Axes>"
      ]
     },
     "metadata": {},
     "output_type": "display_data"
    }
   ],
   "source": [
    "import seaborn as sns\n",
    "corr = df_numeric.corr()\n",
    "ax = sns.heatmap(\n",
    "    corr, \n",
    "    vmin=-1, vmax=1, center=0,\n",
    "    cmap=sns.diverging_palette(20, 220, n=200),\n",
    "    square=True\n",
    ")\n",
    "ax.set_xticklabels(\n",
    "    ax.get_xticklabels(),\n",
    "    rotation=45,\n",
    "    horizontalalignment='right'\n",
    ")"
   ]
  },
  {
   "cell_type": "code",
   "execution_count": null,
   "metadata": {},
   "outputs": [],
   "source": []
  }
 ],
 "metadata": {
  "kernelspec": {
   "display_name": "Python 3",
   "language": "python",
   "name": "python3"
  },
  "language_info": {
   "codemirror_mode": {
    "name": "ipython",
    "version": 3
   },
   "file_extension": ".py",
   "mimetype": "text/x-python",
   "name": "python",
   "nbconvert_exporter": "python",
   "pygments_lexer": "ipython3",
   "version": "3.11.4"
  }
 },
 "nbformat": 4,
 "nbformat_minor": 2
}
